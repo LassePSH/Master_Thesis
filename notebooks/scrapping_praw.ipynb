{
 "cells": [
  {
   "cell_type": "markdown",
   "metadata": {},
   "source": [
    "# Scrapping PRAW"
   ]
  },
  {
   "cell_type": "markdown",
   "metadata": {},
   "source": [
    "## Imports"
   ]
  },
  {
   "cell_type": "code",
   "execution_count": 15,
   "metadata": {},
   "outputs": [],
   "source": [
    "import numpy as np\n",
    "import pandas as pd\n",
    "import matplotlib.pyplot as plt\n",
    "import praw\n",
    "from time import sleep"
   ]
  },
  {
   "cell_type": "code",
   "execution_count": null,
   "metadata": {},
   "outputs": [],
   "source": [
    "# scrape post\n",
    "  # get author \n",
    "  # get date\n",
    "  # get n comments\n",
    "  # get rattings\n",
    "# scrape by:\n",
    "  # hot\n",
    "  # new\n",
    "  # date"
   ]
  },
  {
   "cell_type": "code",
   "execution_count": 6,
   "metadata": {},
   "outputs": [],
   "source": [
    "# Read-only instance\n",
    "reddit_read_only = praw.Reddit(client_id=\"OlWj7Mu4aXh0eg\",\n",
    "                               client_secret=\"fIzRhpEeBYAwi8_i2hcyzoWwDnWOag\",\n",
    "                               user_agent=\"Scrapper\")        "
   ]
  },
  {
   "cell_type": "code",
   "execution_count": 7,
   "metadata": {},
   "outputs": [
    {
     "name": "stdout",
     "output_type": "stream",
     "text": [
      "Display Name: redditdev\n",
      "Title: reddit Development\n"
     ]
    }
   ],
   "source": [
    "subreddit = reddit_read_only.subreddit(\"redditdev\")\n",
    " \n",
    "# Display the name of the Subreddit\n",
    "print(\"Display Name:\", subreddit.display_name)\n",
    " \n",
    "# Display the title of the Subreddit\n",
    "print(\"Title:\", subreddit.title)"
   ]
  },
  {
   "cell_type": "code",
   "execution_count": 20,
   "metadata": {},
   "outputs": [
    {
     "name": "stdout",
     "output_type": "stream",
     "text": [
      "916\n"
     ]
    },
    {
     "data": {
      "text/html": [
       "<div>\n",
       "<style scoped>\n",
       "    .dataframe tbody tr th:only-of-type {\n",
       "        vertical-align: middle;\n",
       "    }\n",
       "\n",
       "    .dataframe tbody tr th {\n",
       "        vertical-align: top;\n",
       "    }\n",
       "\n",
       "    .dataframe thead th {\n",
       "        text-align: right;\n",
       "    }\n",
       "</style>\n",
       "<table border=\"1\" class=\"dataframe\">\n",
       "  <thead>\n",
       "    <tr style=\"text-align: right;\">\n",
       "      <th></th>\n",
       "      <th>Title</th>\n",
       "      <th>Post Text</th>\n",
       "      <th>ID</th>\n",
       "      <th>Score</th>\n",
       "      <th>Total Comments</th>\n",
       "      <th>Post URL</th>\n",
       "    </tr>\n",
       "  </thead>\n",
       "  <tbody>\n",
       "    <tr>\n",
       "      <th>0</th>\n",
       "      <td>Int/str conversions broken in latest Python bu...</td>\n",
       "      <td></td>\n",
       "      <td>x9pzwa</td>\n",
       "      <td>1</td>\n",
       "      <td>0</td>\n",
       "      <td>https://discuss.python.org/t/int-str-conversio...</td>\n",
       "    </tr>\n",
       "    <tr>\n",
       "      <th>1</th>\n",
       "      <td>Telegram with python</td>\n",
       "      <td>There are so many python libraries for dealing...</td>\n",
       "      <td>x9oy0y</td>\n",
       "      <td>4</td>\n",
       "      <td>0</td>\n",
       "      <td>https://www.reddit.com/r/Python/comments/x9oy0...</td>\n",
       "    </tr>\n",
       "    <tr>\n",
       "      <th>2</th>\n",
       "      <td>[Resource-Repository] A collection of code exa...</td>\n",
       "      <td>Hey 🐱‍\\n\\nI've updated scripts that extracts p...</td>\n",
       "      <td>x9o70m</td>\n",
       "      <td>1</td>\n",
       "      <td>0</td>\n",
       "      <td>https://www.reddit.com/r/Python/comments/x9o70...</td>\n",
       "    </tr>\n",
       "    <tr>\n",
       "      <th>3</th>\n",
       "      <td>How crucial is documentation</td>\n",
       "      <td>Been doing data analysis with Python for a whi...</td>\n",
       "      <td>x9n5wf</td>\n",
       "      <td>1</td>\n",
       "      <td>7</td>\n",
       "      <td>https://www.reddit.com/r/Python/comments/x9n5w...</td>\n",
       "    </tr>\n",
       "    <tr>\n",
       "      <th>4</th>\n",
       "      <td>Python dictionary operations you should know</td>\n",
       "      <td></td>\n",
       "      <td>x9mt93</td>\n",
       "      <td>1</td>\n",
       "      <td>1</td>\n",
       "      <td>https://medium.com/@dreamferus/python-dictiona...</td>\n",
       "    </tr>\n",
       "  </tbody>\n",
       "</table>\n",
       "</div>"
      ],
      "text/plain": [
       "                                               Title  \\\n",
       "0  Int/str conversions broken in latest Python bu...   \n",
       "1                               Telegram with python   \n",
       "2  [Resource-Repository] A collection of code exa...   \n",
       "3                       How crucial is documentation   \n",
       "4       Python dictionary operations you should know   \n",
       "\n",
       "                                           Post Text      ID  Score  \\\n",
       "0                                                     x9pzwa      1   \n",
       "1  There are so many python libraries for dealing...  x9oy0y      4   \n",
       "2  Hey 🐱‍\\n\\nI've updated scripts that extracts p...  x9o70m      1   \n",
       "3  Been doing data analysis with Python for a whi...  x9n5wf      1   \n",
       "4                                                     x9mt93      1   \n",
       "\n",
       "   Total Comments                                           Post URL  \n",
       "0               0  https://discuss.python.org/t/int-str-conversio...  \n",
       "1               0  https://www.reddit.com/r/Python/comments/x9oy0...  \n",
       "2               0  https://www.reddit.com/r/Python/comments/x9o70...  \n",
       "3               7  https://www.reddit.com/r/Python/comments/x9n5w...  \n",
       "4               1  https://medium.com/@dreamferus/python-dictiona...  "
      ]
     },
     "execution_count": 20,
     "metadata": {},
     "output_type": "execute_result"
    }
   ],
   "source": [
    "\n",
    "from multiprocessing.connection import wait\n",
    "\n",
    "\n",
    "subreddit = reddit_read_only.subreddit(\"Python\")\n",
    "posts = subreddit.new(limit=2000)\n",
    "\n",
    "posts_dict = {\"Title\": [], \"Post Text\": [],\n",
    "              \"ID\": [], \"Score\": [],\n",
    "              \"Total Comments\": [], \"Post URL\": []\n",
    "              }\n",
    " \n",
    "for post in posts:\n",
    "    # Title of each post\n",
    "    posts_dict[\"Title\"].append(post.title)\n",
    "     \n",
    "    # Text inside a post\n",
    "    posts_dict[\"Post Text\"].append(post.selftext)\n",
    "     \n",
    "    # Unique ID of each post\n",
    "    posts_dict[\"ID\"].append(post.id)\n",
    "     \n",
    "    # The score of a post\n",
    "    posts_dict[\"Score\"].append(post.score)\n",
    "     \n",
    "    # Total number of comments inside the post\n",
    "    posts_dict[\"Total Comments\"].append(post.num_comments)\n",
    "     \n",
    "    # URL of each post\n",
    "    posts_dict[\"Post URL\"].append(post.url)\n",
    " \n",
    "# Saving the data in a pandas dataframe\n",
    "top_posts = pd.DataFrame(posts_dict)\n",
    "print(len(top_posts))\n",
    "top_posts.head(5)\n"
   ]
  }
 ],
 "metadata": {
  "kernelspec": {
   "display_name": "Python 3.9.12 ('base')",
   "language": "python",
   "name": "python3"
  },
  "language_info": {
   "codemirror_mode": {
    "name": "ipython",
    "version": 3
   },
   "file_extension": ".py",
   "mimetype": "text/x-python",
   "name": "python",
   "nbconvert_exporter": "python",
   "pygments_lexer": "ipython3",
   "version": "3.9.12"
  },
  "orig_nbformat": 4,
  "vscode": {
   "interpreter": {
    "hash": "a4efcd80d53f331e60d4420b3949daf20df6e0af725842628a26694ea28d8e1a"
   }
  }
 },
 "nbformat": 4,
 "nbformat_minor": 2
}
