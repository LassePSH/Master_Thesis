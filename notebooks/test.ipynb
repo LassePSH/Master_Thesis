{
 "cells": [
  {
   "cell_type": "code",
   "execution_count": 2,
   "metadata": {},
   "outputs": [],
   "source": [
    "import pandas as pd"
   ]
  },
  {
   "cell_type": "code",
   "execution_count": 6,
   "metadata": {},
   "outputs": [],
   "source": [
    "df=pd.read_csv(\"../data/raw/wallstreetbets_2015-01-01-2015-01-10/wallstreetbets_posts.csv\")\n",
    "\n",
    "df.columns = ['author','created_utc','domain','id','n_comments','score','text','title','url','date']"
   ]
  },
  {
   "cell_type": "code",
   "execution_count": 10,
   "metadata": {},
   "outputs": [
    {
     "data": {
      "text/plain": [
       "author                                              memeinyoface\n",
       "created_utc                                           1420212263\n",
       "domain                                       self.wallstreetbets\n",
       "id                                                        2r3tny\n",
       "n_comments                                                     8\n",
       "score                                                          4\n",
       "text           Hey everyone,\\n\\nI have been reading a lot and...\n",
       "title                  Can't short due to broker stock inventory\n",
       "url            http://www.reddit.com/r/wallstreetbets/comment...\n",
       "date                                                1420205063.0\n",
       "Name: 3, dtype: object"
      ]
     },
     "execution_count": 10,
     "metadata": {},
     "output_type": "execute_result"
    }
   ],
   "source": []
  }
 ],
 "metadata": {
  "kernelspec": {
   "display_name": "Python 3.9.12 ('base')",
   "language": "python",
   "name": "python3"
  },
  "language_info": {
   "codemirror_mode": {
    "name": "ipython",
    "version": 3
   },
   "file_extension": ".py",
   "mimetype": "text/x-python",
   "name": "python",
   "nbconvert_exporter": "python",
   "pygments_lexer": "ipython3",
   "version": "3.9.12"
  },
  "orig_nbformat": 4,
  "vscode": {
   "interpreter": {
    "hash": "a4efcd80d53f331e60d4420b3949daf20df6e0af725842628a26694ea28d8e1a"
   }
  }
 },
 "nbformat": 4,
 "nbformat_minor": 2
}
