{
 "cells": [
  {
   "cell_type": "markdown",
   "metadata": {},
   "source": [
    "# Import"
   ]
  },
  {
   "cell_type": "code",
   "execution_count": 3,
   "metadata": {},
   "outputs": [],
   "source": [
    "import pandas as pd\n",
    "from psaw import PushshiftAPI\n",
    "import datetime as dt\n",
    "from tqdm import tqdm\n",
    "import numpy as np\n",
    "import warnings\n",
    "import analysis_util\n",
    "import networkx as nx\n",
    "import matplotlib.pyplot as plt\n",
    "import seaborn as sns\n",
    "sns.set_theme()\n",
    "warnings.filterwarnings(\"ignore\")\n",
    "from scipy.stats import pearsonr"
   ]
  },
  {
   "cell_type": "markdown",
   "metadata": {},
   "source": [
    "# Data"
   ]
  },
  {
   "cell_type": "code",
   "execution_count": 19,
   "metadata": {},
   "outputs": [
    {
     "data": {
      "text/html": [
       "<div>\n",
       "<style scoped>\n",
       "    .dataframe tbody tr th:only-of-type {\n",
       "        vertical-align: middle;\n",
       "    }\n",
       "\n",
       "    .dataframe tbody tr th {\n",
       "        vertical-align: top;\n",
       "    }\n",
       "\n",
       "    .dataframe thead th {\n",
       "        text-align: right;\n",
       "    }\n",
       "</style>\n",
       "<table border=\"1\" class=\"dataframe\">\n",
       "  <thead>\n",
       "    <tr style=\"text-align: right;\">\n",
       "      <th></th>\n",
       "      <th>subreddit</th>\n",
       "      <th>version</th>\n",
       "      <th>period</th>\n",
       "      <th>total_activity</th>\n",
       "      <th>number_of_nodes</th>\n",
       "      <th>number_of_edges</th>\n",
       "      <th>average_weight_of_edges</th>\n",
       "      <th>median_weight_of_edges</th>\n",
       "      <th>average_degree</th>\n",
       "      <th>median_degree</th>\n",
       "      <th>average_clustering_coefficient</th>\n",
       "      <th>mean_activity</th>\n",
       "      <th>mean_delta_time</th>\n",
       "      <th>number_of_reciprocal_edges</th>\n",
       "      <th>fraction_of_reciprocal_edges</th>\n",
       "      <th>clustering_coefficient_p_value</th>\n",
       "    </tr>\n",
       "  </thead>\n",
       "  <tbody>\n",
       "    <tr>\n",
       "      <th>9</th>\n",
       "      <td>FourSentenceStories</td>\n",
       "      <td>2022-11-18 10:14:18</td>\n",
       "      <td>2021-05-04 - 2021-12-28</td>\n",
       "      <td>200</td>\n",
       "      <td>34</td>\n",
       "      <td>28</td>\n",
       "      <td>2.678571</td>\n",
       "      <td>1.0</td>\n",
       "      <td>1.647059</td>\n",
       "      <td>1.0</td>\n",
       "      <td>0.274683</td>\n",
       "      <td>5.823529</td>\n",
       "      <td>19</td>\n",
       "      <td>15</td>\n",
       "      <td>0.428571</td>\n",
       "      <td>0.023</td>\n",
       "    </tr>\n",
       "    <tr>\n",
       "      <th>10</th>\n",
       "      <td>Trump666</td>\n",
       "      <td>2022-11-18 10:15:23</td>\n",
       "      <td>2020-03-16 - 2022-01-01</td>\n",
       "      <td>6746</td>\n",
       "      <td>755</td>\n",
       "      <td>1628</td>\n",
       "      <td>2.652948</td>\n",
       "      <td>1.0</td>\n",
       "      <td>4.312583</td>\n",
       "      <td>2.0</td>\n",
       "      <td>0.202507</td>\n",
       "      <td>7.909934</td>\n",
       "      <td>53</td>\n",
       "      <td>1048</td>\n",
       "      <td>0.492944</td>\n",
       "      <td>0.000</td>\n",
       "    </tr>\n",
       "    <tr>\n",
       "      <th>11</th>\n",
       "      <td>GraphTheory</td>\n",
       "      <td>2022-11-18 10:18:32</td>\n",
       "      <td>2015-02-17 - 2021-12-26</td>\n",
       "      <td>497</td>\n",
       "      <td>247</td>\n",
       "      <td>163</td>\n",
       "      <td>1.717791</td>\n",
       "      <td>1.0</td>\n",
       "      <td>1.319838</td>\n",
       "      <td>1.0</td>\n",
       "      <td>0.015602</td>\n",
       "      <td>2.012146</td>\n",
       "      <td>59</td>\n",
       "      <td>124</td>\n",
       "      <td>0.563636</td>\n",
       "      <td>0.286</td>\n",
       "    </tr>\n",
       "    <tr>\n",
       "      <th>12</th>\n",
       "      <td>jazznoir</td>\n",
       "      <td>2022-11-18 10:19:14</td>\n",
       "      <td>2015-01-01 - 2022-01-01</td>\n",
       "      <td>4725</td>\n",
       "      <td>1497</td>\n",
       "      <td>1139</td>\n",
       "      <td>1.474100</td>\n",
       "      <td>1.0</td>\n",
       "      <td>1.521710</td>\n",
       "      <td>1.0</td>\n",
       "      <td>0.009824</td>\n",
       "      <td>2.985944</td>\n",
       "      <td>122</td>\n",
       "      <td>640</td>\n",
       "      <td>0.453258</td>\n",
       "      <td>0.016</td>\n",
       "    </tr>\n",
       "    <tr>\n",
       "      <th>13</th>\n",
       "      <td>indoorbouldering</td>\n",
       "      <td>2022-11-18 11:16:58</td>\n",
       "      <td>2017-08-23 - 2022-01-01</td>\n",
       "      <td>10532</td>\n",
       "      <td>2529</td>\n",
       "      <td>4866</td>\n",
       "      <td>1.665228</td>\n",
       "      <td>1.0</td>\n",
       "      <td>3.848161</td>\n",
       "      <td>2.0</td>\n",
       "      <td>0.061709</td>\n",
       "      <td>3.967181</td>\n",
       "      <td>112</td>\n",
       "      <td>3487</td>\n",
       "      <td>0.531960</td>\n",
       "      <td>0.000</td>\n",
       "    </tr>\n",
       "    <tr>\n",
       "      <th>14</th>\n",
       "      <td>DTU</td>\n",
       "      <td>2022-11-18 11:22:59</td>\n",
       "      <td>2015-05-15 - 2022-01-01</td>\n",
       "      <td>2788</td>\n",
       "      <td>689</td>\n",
       "      <td>1196</td>\n",
       "      <td>1.805184</td>\n",
       "      <td>1.0</td>\n",
       "      <td>3.471698</td>\n",
       "      <td>2.0</td>\n",
       "      <td>0.064316</td>\n",
       "      <td>4.046444</td>\n",
       "      <td>136</td>\n",
       "      <td>1014</td>\n",
       "      <td>0.600355</td>\n",
       "      <td>0.000</td>\n",
       "    </tr>\n",
       "    <tr>\n",
       "      <th>15</th>\n",
       "      <td>kiwi_bird</td>\n",
       "      <td>2022-11-18 11:24:00</td>\n",
       "      <td>2015-02-21 - 2021-12-27</td>\n",
       "      <td>862</td>\n",
       "      <td>302</td>\n",
       "      <td>301</td>\n",
       "      <td>1.594684</td>\n",
       "      <td>1.0</td>\n",
       "      <td>1.993377</td>\n",
       "      <td>1.0</td>\n",
       "      <td>0.047712</td>\n",
       "      <td>2.778146</td>\n",
       "      <td>65</td>\n",
       "      <td>128</td>\n",
       "      <td>0.357542</td>\n",
       "      <td>0.085</td>\n",
       "    </tr>\n",
       "  </tbody>\n",
       "</table>\n",
       "</div>"
      ],
      "text/plain": [
       "              subreddit              version                   period  \\\n",
       "9   FourSentenceStories  2022-11-18 10:14:18  2021-05-04 - 2021-12-28   \n",
       "10             Trump666  2022-11-18 10:15:23  2020-03-16 - 2022-01-01   \n",
       "11          GraphTheory  2022-11-18 10:18:32  2015-02-17 - 2021-12-26   \n",
       "12             jazznoir  2022-11-18 10:19:14  2015-01-01 - 2022-01-01   \n",
       "13     indoorbouldering  2022-11-18 11:16:58  2017-08-23 - 2022-01-01   \n",
       "14                  DTU  2022-11-18 11:22:59  2015-05-15 - 2022-01-01   \n",
       "15            kiwi_bird  2022-11-18 11:24:00  2015-02-21 - 2021-12-27   \n",
       "\n",
       "    total_activity  number_of_nodes  number_of_edges  average_weight_of_edges  \\\n",
       "9              200               34               28                 2.678571   \n",
       "10            6746              755             1628                 2.652948   \n",
       "11             497              247              163                 1.717791   \n",
       "12            4725             1497             1139                 1.474100   \n",
       "13           10532             2529             4866                 1.665228   \n",
       "14            2788              689             1196                 1.805184   \n",
       "15             862              302              301                 1.594684   \n",
       "\n",
       "    median_weight_of_edges  average_degree  median_degree  \\\n",
       "9                      1.0        1.647059            1.0   \n",
       "10                     1.0        4.312583            2.0   \n",
       "11                     1.0        1.319838            1.0   \n",
       "12                     1.0        1.521710            1.0   \n",
       "13                     1.0        3.848161            2.0   \n",
       "14                     1.0        3.471698            2.0   \n",
       "15                     1.0        1.993377            1.0   \n",
       "\n",
       "    average_clustering_coefficient  mean_activity  mean_delta_time  \\\n",
       "9                         0.274683       5.823529               19   \n",
       "10                        0.202507       7.909934               53   \n",
       "11                        0.015602       2.012146               59   \n",
       "12                        0.009824       2.985944              122   \n",
       "13                        0.061709       3.967181              112   \n",
       "14                        0.064316       4.046444              136   \n",
       "15                        0.047712       2.778146               65   \n",
       "\n",
       "    number_of_reciprocal_edges  fraction_of_reciprocal_edges  \\\n",
       "9                           15                      0.428571   \n",
       "10                        1048                      0.492944   \n",
       "11                         124                      0.563636   \n",
       "12                         640                      0.453258   \n",
       "13                        3487                      0.531960   \n",
       "14                        1014                      0.600355   \n",
       "15                         128                      0.357542   \n",
       "\n",
       "    clustering_coefficient_p_value  \n",
       "9                            0.023  \n",
       "10                           0.000  \n",
       "11                           0.286  \n",
       "12                           0.016  \n",
       "13                           0.000  \n",
       "14                           0.000  \n",
       "15                           0.085  "
      ]
     },
     "execution_count": 19,
     "metadata": {},
     "output_type": "execute_result"
    }
   ],
   "source": [
    "df=pd.read_csv('/home/pelle/Master_Thesis/data/processed/community_metrics.csv').sort_values('number_of_nodes',ascending=False)\n",
    "# convert to int in days mean_delta_time\n",
    "df['mean_delta_time']=df['mean_delta_time'].apply(lambda x: int(x[:3]))\n",
    "\n",
    "# remove old versions of each subrredit\n",
    "def remove_old_versions(df):\n",
    "    df=df.sort_values('version')\n",
    "    df=df.drop_duplicates(subset=['subreddit'],keep='last')\n",
    "    return df\n",
    "\n",
    "df=remove_old_versions(df)\n",
    "df.head(20)"
   ]
  },
  {
   "cell_type": "code",
   "execution_count": 3,
   "metadata": {},
   "outputs": [
    {
     "name": "stdout",
     "output_type": "stream",
     "text": [
      "\\begin{tabular}{llrrrrrrrrrrrrr}\n",
      "\\toprule\n",
      "          subreddit &                period &   $A$ &  $N$ &  $E$ &  $\\overline{W}$ &  $W_{\\mu}$ &  $\\overline{D}$ &  $D_{\\mu}$ &  $\\overline{C}$ &  $\\overline{A}$ &  $\\overline{\\D t}$ &  $R$ &  $R_{\\%}$ &  $P_{C}$ \\\\\n",
      "\\midrule\n",
      "   indoorbouldering & 2015-01-01-2022-01-01 & 11653 & 2529 & 4866 &           1.665 &        1.0 &           3.848 &        2.0 &           0.062 &           3.967 &                112 & 3487 &     0.532 &    0.000 \\\\\n",
      "           jazznoir & 2015-01-01-2022-01-01 &  7077 & 1497 & 1139 &           1.474 &        1.0 &           1.522 &        1.0 &           0.010 &           2.986 &                122 &  640 &     0.453 &    0.012 \\\\\n",
      "           Trump666 & 2015-01-01-2022-01-01 &  7102 &  755 & 1628 &           2.653 &        1.0 &           4.313 &        2.0 &           0.203 &           7.910 &                 53 & 1048 &     0.493 &    0.000 \\\\\n",
      "                DTU & 2015-01-01-2022-01-01 &  3274 &  689 & 1196 &           1.805 &        1.0 &           3.472 &        2.0 &           0.064 &           4.046 &                136 & 1014 &     0.600 &    0.000 \\\\\n",
      "          kiwi_bird & 2015-01-01-2022-01-01 &  1193 &  302 &  301 &           1.595 &        1.0 &           1.993 &        1.0 &           0.048 &           2.778 &                 65 &  128 &     0.358 &    0.096 \\\\\n",
      "        GraphTheory & 2015-01-01-2022-01-01 &   691 &  247 &  163 &           1.718 &        1.0 &           1.320 &        1.0 &           0.016 &           2.012 &                 59 &  124 &     0.564 &    0.245 \\\\\n",
      "FourSentenceStories & 2015-01-01-2022-01-01 &   319 &   34 &   28 &           2.679 &        1.0 &           1.647 &        1.0 &           0.275 &           5.824 &                 19 &   15 &     0.429 &    0.023 \\\\\n",
      "\\bottomrule\n",
      "\\end{tabular}\n",
      "\n"
     ]
    }
   ],
   "source": [
    "df.rename(columns={'mean_delta_time':'$\\overline{\\D t}$'},inplace=True)\n",
    "df.rename(columns={'number_of_nodes':'$N$'},inplace=True)\n",
    "df.rename(columns={'number_of_edges':'$E$'},inplace=True)\n",
    "df.rename(columns={'total_activity': '$A$'},inplace=True)\n",
    "df.rename(columns={'mean_activity': '$\\overline{A}$'},inplace=True)\n",
    "df.rename(columns={'mean_degree': '$\\overline{D}$'},inplace=True)\n",
    "df.rename(columns={'median_degree': '$D_{\\mu}$'},inplace=True)\n",
    "df.rename(columns={'average_clustering_coefficient': '$\\overline{C}$'},inplace=True)\n",
    "df.rename(columns={'average_weight_of_edges': '$\\overline{W}$'},inplace=True)\n",
    "df.rename(columns={'median_weight_oaverage_degreef_edges': '$W_{\\mu}$'},inplace=True)\n",
    "df.rename(columns={'average_degree': '$\\overline{D}$'},inplace=True)\n",
    "df.rename(columns={'number_of_reciprocal_edges': '$R$'},inplace=True)\n",
    "df.rename(columns={'fraction_of_reciprocal_edges': '$R_{\\%}$'},inplace=True)\n",
    "df.rename(columns={'clustering_coefficient_p_value': '$P_{C}$'},inplace=True)\n",
    "df.rename(columns={'median_weight_of_edges': '$W_{\\mu}$'},inplace=True)\n",
    "\n",
    "print(df.drop(columns=['version']).round(decimals=3).to_latex(escape=False,index=False))"
   ]
  },
  {
   "cell_type": "code",
   "execution_count": 16,
   "metadata": {},
   "outputs": [
    {
     "data": {
      "text/html": [
       "<div>\n",
       "<style scoped>\n",
       "    .dataframe tbody tr th:only-of-type {\n",
       "        vertical-align: middle;\n",
       "    }\n",
       "\n",
       "    .dataframe tbody tr th {\n",
       "        vertical-align: top;\n",
       "    }\n",
       "\n",
       "    .dataframe thead th {\n",
       "        text-align: right;\n",
       "    }\n",
       "</style>\n",
       "<table border=\"1\" class=\"dataframe\">\n",
       "  <thead>\n",
       "    <tr style=\"text-align: right;\">\n",
       "      <th></th>\n",
       "      <th>explanation</th>\n",
       "    </tr>\n",
       "    <tr>\n",
       "      <th>subreddit</th>\n",
       "      <th></th>\n",
       "    </tr>\n",
       "  </thead>\n",
       "  <tbody>\n",
       "    <tr>\n",
       "      <th>indoorbouldering</th>\n",
       "      <td>0</td>\n",
       "    </tr>\n",
       "    <tr>\n",
       "      <th>jazznoir</th>\n",
       "      <td>0</td>\n",
       "    </tr>\n",
       "    <tr>\n",
       "      <th>Trump666</th>\n",
       "      <td>0</td>\n",
       "    </tr>\n",
       "    <tr>\n",
       "      <th>DTU</th>\n",
       "      <td>A research university in Denmark, with a focus...</td>\n",
       "    </tr>\n",
       "    <tr>\n",
       "      <th>kiwi_bird</th>\n",
       "      <td>0</td>\n",
       "    </tr>\n",
       "    <tr>\n",
       "      <th>GraphTheory</th>\n",
       "      <td>0</td>\n",
       "    </tr>\n",
       "    <tr>\n",
       "      <th>FourSentenceStories</th>\n",
       "      <td>0</td>\n",
       "    </tr>\n",
       "  </tbody>\n",
       "</table>\n",
       "</div>"
      ],
      "text/plain": [
       "                                                           explanation\n",
       "subreddit                                                             \n",
       "indoorbouldering                                                     0\n",
       "jazznoir                                                             0\n",
       "Trump666                                                             0\n",
       "DTU                  A research university in Denmark, with a focus...\n",
       "kiwi_bird                                                            0\n",
       "GraphTheory                                                          0\n",
       "FourSentenceStories                                                  0"
      ]
     },
     "execution_count": 16,
     "metadata": {},
     "output_type": "execute_result"
    }
   ],
   "source": [
    "df_explanation=pd.DataFrame(df['subreddit']).set_index('subreddit')\n",
    "\n",
    "# df_explanation['DTU']['xx']\n",
    "\n",
    "# new collumns for explanation\n",
    "df_explanation['explanation']=0\n",
    "df_explanation['explanation']['DTU'] = \"A subreddit related to the technical university of Denmark DTU\"\n",
    "df_explanation['explanation']['jazznoir'] = \"\"\n",
    "\n",
    "\n",
    "df_explanation"
   ]
  },
  {
   "cell_type": "code",
   "execution_count": 3,
   "metadata": {},
   "outputs": [],
   "source": [
    "# rho = df.corr()\n",
    "# pval = df.corr(method=lambda x, y: pearsonr(x, y)[1]) - np.eye(*rho.shape)\n",
    "# p = pval.applymap(lambda x: ''.join(['*' for t in [0.01,0.05,0.1] if x<=t]))\n",
    "\n",
    "# fig, ax = plt.subplots(figsize=(14,14))\n",
    "\n",
    "# sns.heatmap(data=rho, annot=(np.array(rho.round(2).astype(str) + p)),fmt = '',vmin=-1,vmax=1,cmap='coolwarm')\n",
    "\n",
    "# # rotate xticks\n",
    "# ax.set_xticklabels(ax.get_xticklabels(), rotation=45, horizontalalignment='right', fontsize=12)\n",
    "# ax.set_yticklabels(ax.get_yticklabels(), fontsize=12)\n",
    "# plt.show()"
   ]
  },
  {
   "cell_type": "code",
   "execution_count": 5,
   "metadata": {},
   "outputs": [
    {
     "name": "stderr",
     "output_type": "stream",
     "text": [
      "100%|██████████| 1/1 [00:00<00:00, 2741.38it/s]\n"
     ]
    }
   ],
   "source": [
    "# start = df_comments.created_utc.min()\n",
    "# period = df_comments.created_utc.max()-df_comments.created_utc.min()\n",
    "# step = dt.timedelta(weeks=10)\n",
    "\n",
    "# graph_dict = {}\n",
    "\n",
    "# for i in tqdm(range(int(np.ceil(period / step)))):\n",
    "#     before = start + step*i + step\n",
    "#     # df_comments_before=df_comments.loc[df_comments.created_utc<before]\n",
    "    \n",
    "#     # G = nx.Graph()\n",
    "#     # G.add_edges_from(df_comments_before[['author','parent_author']].dropna().values)\n",
    "#     # # save graph as pickle to /home/pelle/Master_Thesis/data/processed/wallstreetbets_temporal_graphs\n",
    "#     # nx.write_gpickle(G, '/home/pelle/Master_Thesis/data/processed/wallstreetbets_temporal_graphs/{}.gpickle'.format(before))"
   ]
  },
  {
   "cell_type": "code",
   "execution_count": 11,
   "metadata": {},
   "outputs": [
    {
     "name": "stdout",
     "output_type": "stream",
     "text": [
      "Reading data...\n",
      "Done reading!\n",
      "\n"
     ]
    },
    {
     "name": "stderr",
     "output_type": "stream",
     "text": [
      "/tmp/ipykernel_3006/251551527.py:20: FutureWarning: The error_bad_lines argument has been deprecated and will be removed in a future version. Use on_bad_lines in the future.\n",
      "\n",
      "\n",
      "  df_comments_chunked = pd.read_csv('/home/pelle/Downloads/comments_pmaw_2016-2021_wsb.csv', dtype=dtype_dictionary,\n"
     ]
    }
   ],
   "source": [
    "# sample data to get dtypes\n",
    "sample = pd.read_csv('/home/pelle/Downloads/comments_pmaw_2016-2021_wsb.csv',nrows=100)\n",
    "dtypes = sample.dtypes # Get the dtypes\n",
    "cols = sample.columns # Get the columns\n",
    "dtype_dictionary = {} \n",
    "for c in cols:\n",
    "    if str(dtypes[c]) == 'int64':\n",
    "        dtype_dictionary[c] = 'float32' # Handle NANs in int columns\n",
    "    else:\n",
    "        dtype_dictionary[c] = str(dtypes[c])\n",
    "dtype_dictionary['author'] = 'str'\n",
    "dtype_dictionary['body'] = 'str'\n",
    "dtype_dictionary['parent_id'] = 'str'\n",
    "dtype_dictionary['link_id'] = 'str'\n",
    "dtype_dictionary['id'] = 'str'\n",
    "\n",
    "\n",
    "# read data\n",
    "print('Reading data...')\n",
    "df_comments_chunked = pd.read_csv('/home/pelle/Downloads/comments_pmaw_2016-2021_wsb.csv', dtype=dtype_dictionary, \n",
    "                 keep_default_na=False, \n",
    "                 error_bad_lines=False,\n",
    "                 na_values=['na',''],\n",
    "                 usecols=['author','parent_author','created_utc','score'],chunksize=1000000,nrows=10000)\n",
    "\n",
    "df_comments = pd.concat(df_comments_chunked, ignore_index=True)\n",
    "df_comments.created_utc = pd.to_datetime(df_comments.created_utc,unit='s')\n",
    "print('Done reading!'+'\\n')\n",
    "\n",
    "df_posts = pd.read_csv('/home/pelle/Downloads/submissions_pmaw_2016-2021_wsb.csv',nrows=100)"
   ]
  },
  {
   "cell_type": "code",
   "execution_count": 12,
   "metadata": {},
   "outputs": [],
   "source": [
    "df_authors=pd.concat([df_posts[['author','score']],df_comments[['author','score']]])\n",
    "s=df_authors.groupby('author').sum().rename(columns={'score':'sum_score'})\n",
    "m=df_authors.groupby('author').mean().rename(columns={'score':'mean_score'})\n",
    "df_score=s.join(m)"
   ]
  },
  {
   "cell_type": "code",
   "execution_count": 21,
   "metadata": {},
   "outputs": [
    {
     "data": {
      "text/plain": [
       "1946.0"
      ]
     },
     "execution_count": 21,
     "metadata": {},
     "output_type": "execute_result"
    }
   ],
   "source": [
    "df_score.loc[next(iter(G.nodes())),'sum_score']"
   ]
  },
  {
   "cell_type": "code",
   "execution_count": 18,
   "metadata": {},
   "outputs": [
    {
     "data": {
      "text/plain": [
       "'theycallme1'"
      ]
     },
     "execution_count": 18,
     "metadata": {},
     "output_type": "execute_result"
    }
   ],
   "source": [
    "next(iter(G.nodes()))"
   ]
  },
  {
   "cell_type": "code",
   "execution_count": 1,
   "metadata": {},
   "outputs": [
    {
     "data": {
      "image/png": "[encoded data removed]",
      "text/plain": [
       "<Figure size 800x800 with 1 Axes>"
      ]
     },
     "metadata": {},
     "output_type": "display_data"
    }
   ],
   "source": [
    "import networkx as nx\n",
    "import matplotlib.pyplot as plt\n",
    "\n",
    "# plot a random network with 6 nodes and 10 edges\n",
    "G = nx.gnm_random_graph(6, 8)\n",
    "\n",
    "# plot\n",
    "plt.figure(figsize=(8,8),dpi=100)\n",
    "\n",
    "# nx.draw(G, with_labels=True, node_size=1000, pos=pos, node_color='blue', font_size=20, font_color='white', font_weight='bold')\n",
    "nx.draw_kamada_kawai(G, with_labels=True, node_size=6000, node_color='blue', font_size=50, font_color='white', font_weight='bold',width=5)"
   ]
  },
  {
   "cell_type": "code",
   "execution_count": 6,
   "metadata": {},
   "outputs": [
    {
     "name": "stdout",
     "output_type": "stream",
     "text": [
      "{0: 0.6000000000000001, 1: 0.4, 2: 0.4, 3: 1.0, 4: 0.6000000000000001, 5: 0.2}\n",
      "{0: 0.05, 1: 0.0, 2: 0.0, 3: 0.6000000000000001, 4: 0.05, 5: 0.0}\n",
      "{0: 0.7142857142857143, 1: 0.625, 2: 0.625, 3: 1.0, 4: 0.7142857142857143, 5: 0.5555555555555556}\n",
      "{0: 0.44811914193156177, 1: 0.3373012105609779, 2: 0.3373012105609779, 3: 0.5785375120614861, 4: 0.44811914193156177, 5: 0.19007525645108347}\n"
     ]
    }
   ],
   "source": [
    "# degree centrality\n",
    "print(nx.degree_centrality(G))\n",
    "# betweenness centrality\n",
    "print(nx.betweenness_centrality(G))\n",
    "# closeness centrality\n",
    "print(nx.closeness_centrality(G))\n",
    "# eigenvector centrality\n",
    "print(nx.eigenvector_centrality(G))\n"
   ]
  },
  {
   "cell_type": "code",
   "execution_count": 4,
   "metadata": {},
   "outputs": [
    {
     "data": {
      "text/plain": [
       "0.4"
      ]
     },
     "execution_count": 4,
     "metadata": {},
     "output_type": "execute_result"
    }
   ],
   "source": [
    "2/5"
   ]
  },
  {
   "cell_type": "code",
   "execution_count": 82,
   "metadata": {},
   "outputs": [
    {
     "name": "stdout",
     "output_type": "stream",
     "text": [
      "\\begin{bmatrix}\n",
      "  0.00 &  1.00 &  0.00 &  1.00 &  0.00 &  1.00\\\\\n",
      "  1.00 &  0.00 &  0.00 &  0.00 &  0.00 &  1.00\\\\\n",
      "  0.00 &  0.00 &  0.00 &  0.00 &  0.00 &  1.00\\\\\n",
      "  1.00 &  0.00 &  0.00 &  0.00 &  1.00 &  1.00\\\\\n",
      "  0.00 &  0.00 &  0.00 &  1.00 &  0.00 &  1.00\\\\\n",
      "  1.00 &  1.00 &  1.00 &  1.00 &  1.00 &  0.00\n",
      "\\end{bmatrix}\n"
     ]
    },
    {
     "name": "stderr",
     "output_type": "stream",
     "text": [
      "/tmp/ipykernel_8604/1749524696.py:5: FutureWarning: adjacency_matrix will return a scipy.sparse array instead of a matrix in Networkx 3.0.\n",
      "  A = nx.adjacency_matrix(G)\n"
     ]
    }
   ],
   "source": [
    "# get adjacency matrix\n",
    "import numpy as np\n",
    "import array_to_latex as a2l\n",
    "\n",
    "A = nx.adjacency_matrix(G)\n",
    "A = A.todense()\n",
    "A=np.array(A).astype(int)\n",
    "\n",
    "a2l.to_ltx(A,)"
   ]
  },
  {
   "cell_type": "markdown",
   "metadata": {},
   "source": [
    "$$A=\\begin{bmatrix}\n",
    "  0.00 &  1.00 &  0.00 &  1.00 &  0.00 &  1.00\\\\\n",
    "  1.00 &  0.00 &  0.00 &  0.00 &  0.00 &  1.00\\\\\n",
    "  0.00 &  0.00 &  0.00 &  0.00 &  0.00 &  1.00\\\\\n",
    "  1.00 &  0.00 &  0.00 &  0.00 &  1.00 &  1.00\\\\\n",
    "  0.00 &  0.00 &  0.00 &  1.00 &  0.00 &  1.00\\\\\n",
    "  1.00 &  1.00 &  1.00 &  1.00 &  1.00 &  0.00\n",
    "\\end{bmatrix}$$"
   ]
  },
  {
   "cell_type": "code",
   "execution_count": 1,
   "metadata": {},
   "outputs": [],
   "source": [
    "import networkx as nx\n",
    "\n",
    "# reaf gpickle\n",
    "G = nx.read_gpickle('/home/pelle/Master_Thesis/data/external/test.gpickle')"
   ]
  },
  {
   "cell_type": "code",
   "execution_count": 2,
   "metadata": {},
   "outputs": [
    {
     "data": {
      "text/plain": [
       "1081637"
      ]
     },
     "execution_count": 2,
     "metadata": {},
     "output_type": "execute_result"
    }
   ],
   "source": [
    "len(G.nodes())"
   ]
  },
  {
   "cell_type": "code",
   "execution_count": 6,
   "metadata": {},
   "outputs": [],
   "source": [
    "import praw\n",
    "from time import sleep\n",
    "from tqdm import tqdm\n",
    "import pandas as pd\n",
    "\n",
    "# Read-only instance\n",
    "def get_reddit_instance():\n",
    "    reddit = praw.Reddit(client_id=\"OlWj7Mu4aXh0eg\",\n",
    "                                client_secret=\"fIzRhpEeBYAwi8_i2hcyzoWwDnWOag\",\n",
    "                                user_agent=\"Scrapper\")\n",
    "    return reddit"
   ]
  },
  {
   "cell_type": "code",
   "execution_count": 7,
   "metadata": {},
   "outputs": [],
   "source": [
    "sample = pd.read_csv('/home/pelle/Downloads/submissions_pmaw_2016-2021_wsb.csv',nrows=10)\n",
    "dtypes = sample.dtypes # Get the dtypes\n",
    "cols = sample.columns # Get the columns\n",
    "dtype_dictionary = {} \n",
    "for c in cols:\n",
    "    if str(dtypes[c]) == 'int64':\n",
    "        dtype_dictionary[c] = 'float32' # Handle NANs in int columns\n",
    "    else:\n",
    "        dtype_dictionary[c] = str(dtypes[c])\n",
    "\n",
    "df_posts = pd.read_csv('/home/pelle/Downloads/submissions_pmaw_2016-2021_wsb.csv',dtype=dtype_dictionary, \n",
    "                keep_default_na=False,\n",
    "                na_values=['na',''],\n",
    "                usecols=['author','created_utc','score','id'])\n",
    "df_posts.created_utc = pd.to_datetime(df_posts.created_utc,unit='s')"
   ]
  },
  {
   "cell_type": "code",
   "execution_count": 49,
   "metadata": {},
   "outputs": [],
   "source": [
    "df_posts=df_posts.loc[df_posts.author == 'DeepFuckingValue']"
   ]
  },
  {
   "cell_type": "code",
   "execution_count": 51,
   "metadata": {},
   "outputs": [],
   "source": []
  },
  {
   "cell_type": "code",
   "execution_count": 43,
   "metadata": {},
   "outputs": [
    {
     "name": "stdout",
     "output_type": "stream",
     "text": [
      "[7, 10, 30, 37, 22, 26, 50, 28, 48, 44, 80, 89, 7, 7, 8, 13, 7, 5, 9, 6, 13, 6, 9, 7, 11, 7, 7, 8, 8, 0, 9, 33, 17, 6, 9, 10, 9, 23, 10, 8, 8, 9, 11, 25, 9, 0, 0, 0, 0, 0, 0, 0, 0, 0, 0, 0, 0]\n"
     ]
    }
   ],
   "source": [
    "# get amount of awards for each submission\n",
    "N_awards = [len(x) for x in submission_awards]\n",
    "print(N_awards)"
   ]
  },
  {
   "cell_type": "code",
   "execution_count": 55,
   "metadata": {},
   "outputs": [
    {
     "name": "stdout",
     "output_type": "stream",
     "text": [
      "7\n"
     ]
    }
   ],
   "source": [
    "submission_awards = []\n",
    "\n",
    "submission = reddit.submission(id='gb3ctb')\n",
    "submission_awards.append(submission.all_awardings)\n",
    "# get number of awards\n",
    "N_awards = [len(x) for x in submission_awards]\n",
    "# submission_awards\n",
    "print(N_awards[0])"
   ]
  },
  {
   "cell_type": "code",
   "execution_count": 57,
   "metadata": {},
   "outputs": [],
   "source": [
    "import datetime\n",
    "path='/home/pelle/Master_Thesis/data/raw/DTU_2015-01-01-2022-01-01/DTU_posts.csv'\n",
    "\n",
    "def read_posts(path):\n",
    "    df=pd.read_csv(path)\n",
    "    df.columns = ['author','created_utc','domain','id','n_comments','score','text','title','url','date']\n",
    "    df['date'] = pd.to_datetime(df['date'],unit='s')\n",
    "    # drop floats in date column\n",
    "    df = df[df['date'].apply(lambda x: isinstance(x, datetime.datetime))]\n",
    "    df['author'].dropna(inplace=True)\n",
    "    df.drop(df.loc[df['author']=='[deleted]'].index, inplace=True)\n",
    "    return df\n",
    "\n",
    "df=read_posts(path)\n",
    "\n",
    "\n",
    "reddit = get_reddit_instance()\n",
    "\n",
    "def get_n_awards(id):\n",
    "    submission_awards = []\n",
    "    submission = reddit.submission(id=id)\n",
    "    submission_awards.append(submission.all_awardings)\n",
    "    # get number of awards\n",
    "    return [len(x) for x in submission_awards]\n",
    "\n",
    "df['N_awards']=df['id'].apply(lambda x: get_n_awards(x))"
   ]
  },
  {
   "cell_type": "code",
   "execution_count": 69,
   "metadata": {},
   "outputs": [
    {
     "name": "stdout",
     "output_type": "stream",
     "text": [
      "Removed 0.02263374485596703 of the rows\n"
     ]
    }
   ],
   "source": [
    "import analysis_util\n",
    "subreddit='DTU'\n",
    "\n",
    "path_post='/home/pelle/Master_Thesis/data/raw/DTU_2015-01-01-2022-01-01' +'/'+ subreddit + \"_posts.csv\"\n",
    "path_comment = '/home/pelle/Master_Thesis/data/raw/DTU_2015-01-01-2022-01-01' +'/'+ subreddit + \"_comments.csv\"\n",
    "\n",
    "df_comments=analysis_util.read_comments(path_comment)\n",
    "df_post=analysis_util.read_posts(path_post)\n",
    "df_all_nodes=analysis_util.get_all_nodes(df_post,df_comments)\n",
    "\n",
    "G_di = analysis_util.get_DiGraph(df_post,df_comments,df_all_nodes)\n",
    "G=analysis_util.get_graph(df_post,df_comments,df_all_nodes)\n",
    "G_big=analysis_util.get_biggest_component(G)\n",
    "\n",
    "df_comment_post = analysis_util.get_comment_post_date(df_comments,df_post)\n",
    "df_authors = analysis_util.get_authors(G,df_all_nodes,df_comments,df_post,df_comment_post)"
   ]
  },
  {
   "cell_type": "code",
   "execution_count": 67,
   "metadata": {},
   "outputs": [
    {
     "data": {
      "text/html": [
       "<div>\n",
       "<style scoped>\n",
       "    .dataframe tbody tr th:only-of-type {\n",
       "        vertical-align: middle;\n",
       "    }\n",
       "\n",
       "    .dataframe tbody tr th {\n",
       "        vertical-align: top;\n",
       "    }\n",
       "\n",
       "    .dataframe thead th {\n",
       "        text-align: right;\n",
       "    }\n",
       "</style>\n",
       "<table border=\"1\" class=\"dataframe\">\n",
       "  <thead>\n",
       "    <tr style=\"text-align: right;\">\n",
       "      <th></th>\n",
       "      <th>author</th>\n",
       "      <th>created_utc</th>\n",
       "      <th>domain</th>\n",
       "      <th>id</th>\n",
       "      <th>n_comments</th>\n",
       "      <th>score</th>\n",
       "      <th>text</th>\n",
       "      <th>title</th>\n",
       "      <th>url</th>\n",
       "      <th>date</th>\n",
       "      <th>N_awards</th>\n",
       "    </tr>\n",
       "  </thead>\n",
       "  <tbody>\n",
       "    <tr>\n",
       "      <th>223</th>\n",
       "      <td>LeCyberDucky</td>\n",
       "      <td>1595510544</td>\n",
       "      <td>self.DTU</td>\n",
       "      <td>hwfjpa</td>\n",
       "      <td>12</td>\n",
       "      <td>22</td>\n",
       "      <td>Hey everybody,\\n\\nthis sub was restricted a wh...</td>\n",
       "      <td>We're back!</td>\n",
       "      <td>https://www.reddit.com/r/DTU/comments/hwfjpa/w...</td>\n",
       "      <td>2020-07-23 11:22:24</td>\n",
       "      <td>2</td>\n",
       "    </tr>\n",
       "    <tr>\n",
       "      <th>377</th>\n",
       "      <td>LeCyberDucky</td>\n",
       "      <td>1627552056</td>\n",
       "      <td>self.DTU</td>\n",
       "      <td>otucws</td>\n",
       "      <td>4</td>\n",
       "      <td>1</td>\n",
       "      <td>[Study announcement s1844: Registration for th...</td>\n",
       "      <td>[Reminder] Sign up for courses in the fall sem...</td>\n",
       "      <td>https://www.reddit.com/r/DTU/comments/otucws/r...</td>\n",
       "      <td>2021-07-29 07:47:36</td>\n",
       "      <td>1</td>\n",
       "    </tr>\n",
       "    <tr>\n",
       "      <th>496</th>\n",
       "      <td>_l______________l_</td>\n",
       "      <td>1641040072</td>\n",
       "      <td>i.redd.it</td>\n",
       "      <td>rtihvg</td>\n",
       "      <td>0</td>\n",
       "      <td>1</td>\n",
       "      <td>NaN</td>\n",
       "      <td>DTU by night</td>\n",
       "      <td>https://i.redd.it/1rgqodz4l2981.jpg</td>\n",
       "      <td>2022-01-01 10:27:52</td>\n",
       "      <td>1</td>\n",
       "    </tr>\n",
       "  </tbody>\n",
       "</table>\n",
       "</div>"
      ],
      "text/plain": [
       "                 author  created_utc     domain      id  n_comments  score  \\\n",
       "223        LeCyberDucky   1595510544   self.DTU  hwfjpa          12     22   \n",
       "377        LeCyberDucky   1627552056   self.DTU  otucws           4      1   \n",
       "496  _l______________l_   1641040072  i.redd.it  rtihvg           0      1   \n",
       "\n",
       "                                                  text  \\\n",
       "223  Hey everybody,\\n\\nthis sub was restricted a wh...   \n",
       "377  [Study announcement s1844: Registration for th...   \n",
       "496                                                NaN   \n",
       "\n",
       "                                                 title  \\\n",
       "223                                        We're back!   \n",
       "377  [Reminder] Sign up for courses in the fall sem...   \n",
       "496                                       DTU by night   \n",
       "\n",
       "                                                   url                date  \\\n",
       "223  https://www.reddit.com/r/DTU/comments/hwfjpa/w... 2020-07-23 11:22:24   \n",
       "377  https://www.reddit.com/r/DTU/comments/otucws/r... 2021-07-29 07:47:36   \n",
       "496                https://i.redd.it/1rgqodz4l2981.jpg 2022-01-01 10:27:52   \n",
       "\n",
       "     N_awards  \n",
       "223         2  \n",
       "377         1  \n",
       "496         1  "
      ]
     },
     "execution_count": 67,
     "metadata": {},
     "output_type": "execute_result"
    }
   ],
   "source": [
    "df.loc[df.N_awards=0]"
   ]
  },
  {
   "cell_type": "code",
   "execution_count": 98,
   "metadata": {},
   "outputs": [
    {
     "data": {
      "text/html": [
       "<div>\n",
       "<style scoped>\n",
       "    .dataframe tbody tr th:only-of-type {\n",
       "        vertical-align: middle;\n",
       "    }\n",
       "\n",
       "    .dataframe tbody tr th {\n",
       "        vertical-align: top;\n",
       "    }\n",
       "\n",
       "    .dataframe thead th {\n",
       "        text-align: right;\n",
       "    }\n",
       "</style>\n",
       "<table border=\"1\" class=\"dataframe\">\n",
       "  <thead>\n",
       "    <tr style=\"text-align: right;\">\n",
       "      <th></th>\n",
       "      <th>level_0</th>\n",
       "      <th>index</th>\n",
       "      <th>Activity</th>\n",
       "      <th>Degree Centrality</th>\n",
       "      <th>Betweenness Centrality</th>\n",
       "      <th>degree</th>\n",
       "      <th>type</th>\n",
       "      <th>mean_score</th>\n",
       "      <th>sum_score</th>\n",
       "      <th>sum_awards</th>\n",
       "      <th>mean_awards</th>\n",
       "    </tr>\n",
       "  </thead>\n",
       "  <tbody>\n",
       "    <tr>\n",
       "      <th>0</th>\n",
       "      <td>92</td>\n",
       "      <td>LeCyberDucky</td>\n",
       "      <td>96</td>\n",
       "      <td>0.100291</td>\n",
       "      <td>0.265163</td>\n",
       "      <td>69</td>\n",
       "      <td>both</td>\n",
       "      <td>2.020833</td>\n",
       "      <td>194</td>\n",
       "      <td>3</td>\n",
       "      <td>0.5</td>\n",
       "    </tr>\n",
       "    <tr>\n",
       "      <th>1</th>\n",
       "      <td>224</td>\n",
       "      <td>tom2hybrid</td>\n",
       "      <td>63</td>\n",
       "      <td>0.061047</td>\n",
       "      <td>0.111640</td>\n",
       "      <td>42</td>\n",
       "      <td>both</td>\n",
       "      <td>1.555556</td>\n",
       "      <td>98</td>\n",
       "      <td>0</td>\n",
       "      <td>0.0</td>\n",
       "    </tr>\n",
       "    <tr>\n",
       "      <th>2</th>\n",
       "      <td>169</td>\n",
       "      <td>Asrial</td>\n",
       "      <td>34</td>\n",
       "      <td>0.036337</td>\n",
       "      <td>0.038605</td>\n",
       "      <td>25</td>\n",
       "      <td>commenter</td>\n",
       "      <td>1.941176</td>\n",
       "      <td>66</td>\n",
       "      <td>0</td>\n",
       "      <td>NaN</td>\n",
       "    </tr>\n",
       "    <tr>\n",
       "      <th>3</th>\n",
       "      <td>267</td>\n",
       "      <td>roberts_the_mcrobert</td>\n",
       "      <td>44</td>\n",
       "      <td>0.045058</td>\n",
       "      <td>0.066449</td>\n",
       "      <td>31</td>\n",
       "      <td>commenter</td>\n",
       "      <td>1.477273</td>\n",
       "      <td>65</td>\n",
       "      <td>0</td>\n",
       "      <td>NaN</td>\n",
       "    </tr>\n",
       "    <tr>\n",
       "      <th>4</th>\n",
       "      <td>679</td>\n",
       "      <td>[deleted]</td>\n",
       "      <td>64</td>\n",
       "      <td>0.074128</td>\n",
       "      <td>0.173443</td>\n",
       "      <td>51</td>\n",
       "      <td>commenter</td>\n",
       "      <td>0.968750</td>\n",
       "      <td>62</td>\n",
       "      <td>0</td>\n",
       "      <td>NaN</td>\n",
       "    </tr>\n",
       "    <tr>\n",
       "      <th>...</th>\n",
       "      <td>...</td>\n",
       "      <td>...</td>\n",
       "      <td>...</td>\n",
       "      <td>...</td>\n",
       "      <td>...</td>\n",
       "      <td>...</td>\n",
       "      <td>...</td>\n",
       "      <td>...</td>\n",
       "      <td>...</td>\n",
       "      <td>...</td>\n",
       "      <td>...</td>\n",
       "    </tr>\n",
       "    <tr>\n",
       "      <th>570</th>\n",
       "      <td>418</td>\n",
       "      <td>akajolicoeur</td>\n",
       "      <td>1</td>\n",
       "      <td>0.001453</td>\n",
       "      <td>0.000000</td>\n",
       "      <td>1</td>\n",
       "      <td>commenter</td>\n",
       "      <td>1.000000</td>\n",
       "      <td>1</td>\n",
       "      <td>0</td>\n",
       "      <td>NaN</td>\n",
       "    </tr>\n",
       "    <tr>\n",
       "      <th>685</th>\n",
       "      <td>685</td>\n",
       "      <td>nbkwprqyeag</td>\n",
       "      <td>1</td>\n",
       "      <td>0.000000</td>\n",
       "      <td>0.000000</td>\n",
       "      <td>0</td>\n",
       "      <td>poster</td>\n",
       "      <td>0.000000</td>\n",
       "      <td>0</td>\n",
       "      <td>0</td>\n",
       "      <td>0.0</td>\n",
       "    </tr>\n",
       "    <tr>\n",
       "      <th>686</th>\n",
       "      <td>686</td>\n",
       "      <td>ajindi</td>\n",
       "      <td>1</td>\n",
       "      <td>0.000000</td>\n",
       "      <td>0.000000</td>\n",
       "      <td>0</td>\n",
       "      <td>poster</td>\n",
       "      <td>0.000000</td>\n",
       "      <td>0</td>\n",
       "      <td>0</td>\n",
       "      <td>0.0</td>\n",
       "    </tr>\n",
       "    <tr>\n",
       "      <th>687</th>\n",
       "      <td>688</td>\n",
       "      <td>converter-bot</td>\n",
       "      <td>1</td>\n",
       "      <td>0.002907</td>\n",
       "      <td>0.000027</td>\n",
       "      <td>2</td>\n",
       "      <td>commenter</td>\n",
       "      <td>-2.000000</td>\n",
       "      <td>-2</td>\n",
       "      <td>0</td>\n",
       "      <td>NaN</td>\n",
       "    </tr>\n",
       "    <tr>\n",
       "      <th>688</th>\n",
       "      <td>687</td>\n",
       "      <td>Shakespeare-Bot</td>\n",
       "      <td>3</td>\n",
       "      <td>0.005814</td>\n",
       "      <td>0.005907</td>\n",
       "      <td>4</td>\n",
       "      <td>commenter</td>\n",
       "      <td>-1.333333</td>\n",
       "      <td>-4</td>\n",
       "      <td>0</td>\n",
       "      <td>NaN</td>\n",
       "    </tr>\n",
       "  </tbody>\n",
       "</table>\n",
       "<p>689 rows × 11 columns</p>\n",
       "</div>"
      ],
      "text/plain": [
       "     level_0                 index  Activity  Degree Centrality  \\\n",
       "0         92          LeCyberDucky        96           0.100291   \n",
       "1        224            tom2hybrid        63           0.061047   \n",
       "2        169                Asrial        34           0.036337   \n",
       "3        267  roberts_the_mcrobert        44           0.045058   \n",
       "4        679             [deleted]        64           0.074128   \n",
       "..       ...                   ...       ...                ...   \n",
       "570      418          akajolicoeur         1           0.001453   \n",
       "685      685           nbkwprqyeag         1           0.000000   \n",
       "686      686                ajindi         1           0.000000   \n",
       "687      688         converter-bot         1           0.002907   \n",
       "688      687       Shakespeare-Bot         3           0.005814   \n",
       "\n",
       "     Betweenness Centrality  degree       type  mean_score  sum_score  \\\n",
       "0                  0.265163      69       both    2.020833        194   \n",
       "1                  0.111640      42       both    1.555556         98   \n",
       "2                  0.038605      25  commenter    1.941176         66   \n",
       "3                  0.066449      31  commenter    1.477273         65   \n",
       "4                  0.173443      51  commenter    0.968750         62   \n",
       "..                      ...     ...        ...         ...        ...   \n",
       "570                0.000000       1  commenter    1.000000          1   \n",
       "685                0.000000       0     poster    0.000000          0   \n",
       "686                0.000000       0     poster    0.000000          0   \n",
       "687                0.000027       2  commenter   -2.000000         -2   \n",
       "688                0.005907       4  commenter   -1.333333         -4   \n",
       "\n",
       "     sum_awards  mean_awards  \n",
       "0             3          0.5  \n",
       "1             0          0.0  \n",
       "2             0          NaN  \n",
       "3             0          NaN  \n",
       "4             0          NaN  \n",
       "..          ...          ...  \n",
       "570           0          NaN  \n",
       "685           0          0.0  \n",
       "686           0          0.0  \n",
       "687           0          NaN  \n",
       "688           0          NaN  \n",
       "\n",
       "[689 rows x 11 columns]"
      ]
     },
     "execution_count": 98,
     "metadata": {},
     "output_type": "execute_result"
    }
   ],
   "source": [
    "df_authors['sum_awards']=df_authors['index'].apply(lambda x: df.loc[df.author==x]['N_awards'].sum())\n",
    "df_authors['mean_awards']=df_authors['index'].apply(lambda x: df.loc[df.author==x]['N_awards'].mean())\n",
    "\n",
    "df_authors"
   ]
  },
  {
   "cell_type": "code",
   "execution_count": 38,
   "metadata": {},
   "outputs": [
    {
     "ename": "NameError",
     "evalue": "name 'df_comments' is not defined",
     "output_type": "error",
     "traceback": [
      "\u001b[0;31m---------------------------------------------------------------------------\u001b[0m",
      "\u001b[0;31mNameError\u001b[0m                                 Traceback (most recent call last)",
      "\u001b[1;32m/home/pelle/Master_Thesis/notebooks/test.ipynb Cell 28\u001b[0m in \u001b[0;36m<cell line: 1>\u001b[0;34m()\u001b[0m\n\u001b[0;32m----> <a href='vscode-notebook-cell:/home/pelle/Master_Thesis/notebooks/test.ipynb#X40sZmlsZQ%3D%3D?line=0'>1</a>\u001b[0m df_comments\n",
      "\u001b[0;31mNameError\u001b[0m: name 'df_comments' is not defined"
     ]
    }
   ],
   "source": [
    "df_comments"
   ]
  },
  {
   "cell_type": "code",
   "execution_count": 40,
   "metadata": {},
   "outputs": [
    {
     "name": "stdout",
     "output_type": "stream",
     "text": [
      "0\n"
     ]
    }
   ],
   "source": [
    "import praw\n",
    "import datetime\n",
    "from tqdm import tqdm\n",
    "tqdm.pandas()\n",
    "\n",
    "# Read-only instance\n",
    "def get_reddit_instance():\n",
    "    reddit = praw.Reddit(client_id=\"OlWj7Mu4aXh0eg\",\n",
    "                                client_secret=\"fIzRhpEeBYAwi8_i2hcyzoWwDnWOag\",\n",
    "                                user_agent=\"Scrapper\")\n",
    "    return reddit\n",
    "\n",
    "\n",
    "def get_n_awards(id):\n",
    "    submission_awards = []\n",
    "    submission = reddit.comment(id=id)\n",
    "    submission_awards.append(submission.all_awardings)\n",
    "    # get number of awards\n",
    "    return submission.all_awardings\n",
    "\n",
    "reddit = get_reddit_instance()\n",
    "print(len(get_n_awards('cnd4yxb')))"
   ]
  }
 ],
 "metadata": {
  "kernelspec": {
   "display_name": "Python 3.9.12 ('base')",
   "language": "python",
   "name": "python3"
  },
  "language_info": {
   "codemirror_mode": {
    "name": "ipython",
    "version": 3
   },
   "file_extension": ".py",
   "mimetype": "text/x-python",
   "name": "python",
   "nbconvert_exporter": "python",
   "pygments_lexer": "ipython3",
   "version": "3.9.12"
  },
  "orig_nbformat": 4,
  "vscode": {
   "interpreter": {
    "hash": "a4efcd80d53f331e60d4420b3949daf20df6e0af725842628a26694ea28d8e1a"
   }
  }
 },
 "nbformat": 4,
 "nbformat_minor": 2
}
