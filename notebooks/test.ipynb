{
 "cells": [
  {
   "cell_type": "code",
   "execution_count": 1,
   "metadata": {},
   "outputs": [],
   "source": [
    "import pandas as pd\n",
    "from psaw import PushshiftAPI\n",
    "import datetime as dt\n",
    "from tqdm import tqdm\n",
    "import warnings\n",
    "import analysis_util\n",
    "import networkx as nx\n",
    "warnings.filterwarnings(\"ignore\")"
   ]
  },
  {
   "cell_type": "code",
   "execution_count": 2,
   "metadata": {},
   "outputs": [],
   "source": [
    "# df_comments=pd.read_csv('/home/pelle/Downloads/comments_pmaw_2016-2021_wsb.csv')\n",
    "# df_post = pd.read_csv('/home/pelle/Downloads/submissions_pmaw_2016-2021_wsb.csv')"
   ]
  },
  {
   "cell_type": "code",
   "execution_count": null,
   "metadata": {},
   "outputs": [],
   "source": [
    "# df_comments"
   ]
  },
  {
   "cell_type": "code",
   "execution_count": 6,
   "metadata": {},
   "outputs": [
    {
     "name": "stdout",
     "output_type": "stream",
     "text": [
      "Removed 0.06792104553516842 of the rows\n"
     ]
    }
   ],
   "source": [
    "subreddit = 'wallstreetbets'\n",
    "period = '2015-01-01-2022-01-01'\n",
    "\n",
    "path_post='../data/raw/'+ subreddit +'_'+  period +'/'+ subreddit + \"_posts.csv\"\n",
    "path_comment = '../data/raw/'+ subreddit +'_'+  period +'/'+ subreddit + \"_comments.csv\"\n",
    "\n",
    "# df_comments=analysis_util.read_comments(path_comment)\n",
    "df_post=analysis_util.read_posts(path_post)\n",
    "# df_all_nodes=analysis_util.get_all_nodes(df_post,df_comments)"
   ]
  },
  {
   "cell_type": "code",
   "execution_count": 10,
   "metadata": {},
   "outputs": [
    {
     "data": {
      "text/plain": [
       "Timestamp('2021-01-27 22:59:57')"
      ]
     },
     "execution_count": 10,
     "metadata": {},
     "output_type": "execute_result"
    }
   ],
   "source": [
    "df_post.created_utc.max()"
   ]
  },
  {
   "cell_type": "code",
   "execution_count": null,
   "metadata": {},
   "outputs": [],
   "source": []
  },
  {
   "cell_type": "code",
   "execution_count": null,
   "metadata": {},
   "outputs": [],
   "source": []
  }
 ],
 "metadata": {
  "kernelspec": {
   "display_name": "Python 3.9.12 ('base')",
   "language": "python",
   "name": "python3"
  },
  "language_info": {
   "codemirror_mode": {
    "name": "ipython",
    "version": 3
   },
   "file_extension": ".py",
   "mimetype": "text/x-python",
   "name": "python",
   "nbconvert_exporter": "python",
   "pygments_lexer": "ipython3",
   "version": "3.9.12"
  },
  "orig_nbformat": 4,
  "vscode": {
   "interpreter": {
    "hash": "a4efcd80d53f331e60d4420b3949daf20df6e0af725842628a26694ea28d8e1a"
   }
  }
 },
 "nbformat": 4,
 "nbformat_minor": 2
}
