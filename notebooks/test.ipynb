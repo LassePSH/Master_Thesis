{
 "cells": [
  {
   "cell_type": "markdown",
   "metadata": {},
   "source": [
    "# Import"
   ]
  },
  {
   "cell_type": "code",
   "execution_count": 1,
   "metadata": {},
   "outputs": [],
   "source": [
    "import pandas as pd\n",
    "from psaw import PushshiftAPI\n",
    "import datetime as dt\n",
    "from tqdm import tqdm\n",
    "import numpy as np\n",
    "import warnings\n",
    "import analysis_util\n",
    "import networkx as nx\n",
    "import matplotlib.pyplot as plt\n",
    "import seaborn as sns\n",
    "sns.set_theme()\n",
    "warnings.filterwarnings(\"ignore\")\n",
    "from scipy.stats import pearsonr"
   ]
  },
  {
   "cell_type": "markdown",
   "metadata": {},
   "source": [
    "# Data"
   ]
  },
  {
   "cell_type": "code",
   "execution_count": 9,
   "metadata": {},
   "outputs": [],
   "source": [
    "df=pd.read_csv('/home/pelle/Master_Thesis/data/processed/community_metrics.csv').sort_values('number_of_nodes',ascending=False)"
   ]
  },
  {
   "cell_type": "code",
   "execution_count": 3,
   "metadata": {},
   "outputs": [],
   "source": [
    "# rho = df.corr()\n",
    "# pval = df.corr(method=lambda x, y: pearsonr(x, y)[1]) - np.eye(*rho.shape)\n",
    "# p = pval.applymap(lambda x: ''.join(['*' for t in [0.01,0.05,0.1] if x<=t]))\n",
    "\n",
    "# fig, ax = plt.subplots(figsize=(14,14))\n",
    "\n",
    "# sns.heatmap(data=rho, annot=(np.array(rho.round(2).astype(str) + p)),fmt = '',vmin=-1,vmax=1,cmap='coolwarm')\n",
    "\n",
    "# # rotate xticks\n",
    "# ax.set_xticklabels(ax.get_xticklabels(), rotation=45, horizontalalignment='right', fontsize=12)\n",
    "# ax.set_yticklabels(ax.get_yticklabels(), fontsize=12)\n",
    "# plt.show()"
   ]
  },
  {
   "cell_type": "code",
   "execution_count": 5,
   "metadata": {},
   "outputs": [
    {
     "name": "stderr",
     "output_type": "stream",
     "text": [
      "100%|██████████| 1/1 [00:00<00:00, 2741.38it/s]\n"
     ]
    }
   ],
   "source": [
    "# start = df_comments.created_utc.min()\n",
    "# period = df_comments.created_utc.max()-df_comments.created_utc.min()\n",
    "# step = dt.timedelta(weeks=10)\n",
    "\n",
    "# graph_dict = {}\n",
    "\n",
    "# for i in tqdm(range(int(np.ceil(period / step)))):\n",
    "#     before = start + step*i + step\n",
    "#     # df_comments_before=df_comments.loc[df_comments.created_utc<before]\n",
    "    \n",
    "#     # G = nx.Graph()\n",
    "#     # G.add_edges_from(df_comments_before[['author','parent_author']].dropna().values)\n",
    "#     # # save graph as pickle to /home/pelle/Master_Thesis/data/processed/wallstreetbets_temporal_graphs\n",
    "#     # nx.write_gpickle(G, '/home/pelle/Master_Thesis/data/processed/wallstreetbets_temporal_graphs/{}.gpickle'.format(before))"
   ]
  },
  {
   "cell_type": "code",
   "execution_count": 11,
   "metadata": {},
   "outputs": [
    {
     "name": "stdout",
     "output_type": "stream",
     "text": [
      "Reading data...\n",
      "Done reading!\n",
      "\n"
     ]
    },
    {
     "name": "stderr",
     "output_type": "stream",
     "text": [
      "/tmp/ipykernel_3006/251551527.py:20: FutureWarning: The error_bad_lines argument has been deprecated and will be removed in a future version. Use on_bad_lines in the future.\n",
      "\n",
      "\n",
      "  df_comments_chunked = pd.read_csv('/home/pelle/Downloads/comments_pmaw_2016-2021_wsb.csv', dtype=dtype_dictionary,\n"
     ]
    }
   ],
   "source": [
    "# sample data to get dtypes\n",
    "sample = pd.read_csv('/home/pelle/Downloads/comments_pmaw_2016-2021_wsb.csv',nrows=100)\n",
    "dtypes = sample.dtypes # Get the dtypes\n",
    "cols = sample.columns # Get the columns\n",
    "dtype_dictionary = {} \n",
    "for c in cols:\n",
    "    if str(dtypes[c]) == 'int64':\n",
    "        dtype_dictionary[c] = 'float32' # Handle NANs in int columns\n",
    "    else:\n",
    "        dtype_dictionary[c] = str(dtypes[c])\n",
    "dtype_dictionary['author'] = 'str'\n",
    "dtype_dictionary['body'] = 'str'\n",
    "dtype_dictionary['parent_id'] = 'str'\n",
    "dtype_dictionary['link_id'] = 'str'\n",
    "dtype_dictionary['id'] = 'str'\n",
    "\n",
    "\n",
    "# read data\n",
    "print('Reading data...')\n",
    "df_comments_chunked = pd.read_csv('/home/pelle/Downloads/comments_pmaw_2016-2021_wsb.csv', dtype=dtype_dictionary, \n",
    "                 keep_default_na=False, \n",
    "                 error_bad_lines=False,\n",
    "                 na_values=['na',''],\n",
    "                 usecols=['author','parent_author','created_utc','score'],chunksize=1000000,nrows=10000)\n",
    "\n",
    "df_comments = pd.concat(df_comments_chunked, ignore_index=True)\n",
    "df_comments.created_utc = pd.to_datetime(df_comments.created_utc,unit='s')\n",
    "print('Done reading!'+'\\n')\n",
    "\n",
    "df_posts = pd.read_csv('/home/pelle/Downloads/submissions_pmaw_2016-2021_wsb.csv',nrows=100)"
   ]
  },
  {
   "cell_type": "code",
   "execution_count": 12,
   "metadata": {},
   "outputs": [],
   "source": [
    "df_authors=pd.concat([df_posts[['author','score']],df_comments[['author','score']]])\n",
    "s=df_authors.groupby('author').sum().rename(columns={'score':'sum_score'})\n",
    "m=df_authors.groupby('author').mean().rename(columns={'score':'mean_score'})\n",
    "df_score=s.join(m)"
   ]
  },
  {
   "cell_type": "code",
   "execution_count": 21,
   "metadata": {},
   "outputs": [
    {
     "data": {
      "text/plain": [
       "1946.0"
      ]
     },
     "execution_count": 21,
     "metadata": {},
     "output_type": "execute_result"
    }
   ],
   "source": [
    "df_score.loc[next(iter(G.nodes())),'sum_score']"
   ]
  },
  {
   "cell_type": "code",
   "execution_count": 10,
   "metadata": {},
   "outputs": [],
   "source": [
    "import pandas as pd\n",
    "import datetime as dt\n",
    "df_posts = pd.read_csv('/home/pelle/Downloads/submissions_pmaw_2016-2021_wsb.csv')\n",
    "df_posts.created_utc = pd.to_datetime(df_posts.created_utc,unit='s')\n",
    "before = df_posts.created_utc.max()-dt.timedelta(weeks=10)\n",
    "df_posts_period = df_posts[(df_posts.created_utc < before)]"
   ]
  },
  {
   "cell_type": "code",
   "execution_count": 17,
   "metadata": {},
   "outputs": [],
   "source": [
    "import pickle \n",
    "\n",
    "p = '/home/pelle/Master_Thesis/data/processed/wallstreetbets_temporal_graphs/graphs_10/graph_2017-07-14.gpickle'\n",
    "\n",
    "with open(p, 'rb') as handle:\n",
    "    G = pickle.load(handle)"
   ]
  },
  {
   "cell_type": "code",
   "execution_count": 5,
   "metadata": {},
   "outputs": [],
   "source": [
    "# add attributes to nodes\n",
    "for node in G.nodes():  \n",
    "    G.nodes[node]['sum_score'] = df_score.loc[node].sum_score\n",
    "    G.nodes[node]['mean_score'] = df_score.loc[node].mean_score"
   ]
  },
  {
   "cell_type": "code",
   "execution_count": 18,
   "metadata": {},
   "outputs": [
    {
     "data": {
      "text/plain": [
       "'theycallme1'"
      ]
     },
     "execution_count": 18,
     "metadata": {},
     "output_type": "execute_result"
    }
   ],
   "source": [
    "next(iter(G.nodes()))"
   ]
  },
  {
   "cell_type": "code",
   "execution_count": 14,
   "metadata": {},
   "outputs": [
    {
     "data": {
      "image/png": "[encoded data removed]",
      "text/plain": [
       "<Figure size 432x288 with 1 Axes>"
      ]
     },
     "metadata": {},
     "output_type": "display_data"
    }
   ],
   "source": [
    "# G = nx.path_graph(4)\n",
    "# nx.write_gpickle(G, \"test.gpickle\")\n",
    "# nx.draw(G, with_labels=True)"
   ]
  },
  {
   "cell_type": "code",
   "execution_count": 17,
   "metadata": {},
   "outputs": [],
   "source": [
    "# G = nx.random_geometric_graph(200, 0.125)\n",
    "# nx.write_gpickle(G, \"test.gpickle\")\n",
    "# G=nx.read_gpickle(\"test.gpickle\")\n",
    "# nx.draw(G, with_labels=True)"
   ]
  }
 ],
 "metadata": {
  "kernelspec": {
   "display_name": "Python 3.9.12 ('base')",
   "language": "python",
   "name": "python3"
  },
  "language_info": {
   "codemirror_mode": {
    "name": "ipython",
    "version": 3
   },
   "file_extension": ".py",
   "mimetype": "text/x-python",
   "name": "python",
   "nbconvert_exporter": "python",
   "pygments_lexer": "ipython3",
   "version": "3.9.12"
  },
  "orig_nbformat": 4,
  "vscode": {
   "interpreter": {
    "hash": "a4efcd80d53f331e60d4420b3949daf20df6e0af725842628a26694ea28d8e1a"
   }
  }
 },
 "nbformat": 4,
 "nbformat_minor": 2
}
