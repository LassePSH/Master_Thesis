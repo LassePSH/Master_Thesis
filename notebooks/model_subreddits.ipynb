{
 "cells": [
  {
   "cell_type": "code",
   "execution_count": 200,
   "metadata": {},
   "outputs": [],
   "source": [
    "import pandas as pd\n",
    "import numpy as np\n",
    "import matplotlib.pyplot as plt\n",
    "import seaborn as sns\n",
    "import analysis_util\n",
    "from tqdm import tqdm\n",
    "import networkx as nx\n",
    "\n",
    "import os \n",
    "from collections import defaultdict\n",
    "from sklearn.metrics import confusion_matrix\n",
    "from sklearn.metrics import classification_report\n",
    "from sklearn.metrics import f1_score\n",
    "import torch \n",
    "from torch import nn, optim\n",
    "from transformers import AutoTokenizer, AutoModelForPreTraining, AdamW, get_scheduler, get_linear_schedule_with_warmup\n",
    "import torch.nn.functional as F\n",
    "from torch.utils.data import DataLoader\n",
    "from transformers import ElectraModel\n",
    "from transformers.utils import logging\n",
    "logging.set_verbosity_error() #Remove warning msg - missing fine-tunning"
   ]
  },
  {
   "attachments": {},
   "cell_type": "markdown",
   "metadata": {},
   "source": [
    "# Data"
   ]
  },
  {
   "cell_type": "code",
   "execution_count": 222,
   "metadata": {},
   "outputs": [
    {
     "name": "stdout",
     "output_type": "stream",
     "text": [
      "indoorbouldering\n",
      "Removed 0.013580246913580174 of the rows\n"
     ]
    }
   ],
   "source": [
    "# pd.read_csv(path+'/Trump666_posts.csv')\n",
    "\n",
    "subreddits = ['indoorbouldering']\n",
    "period = '2015-01-01-2022-01-01'\n",
    "\n",
    "df_post_dict = {}\n",
    "for subreddit in subreddits:\n",
    "    print(subreddit)\n",
    "    path_post='../data/raw/'+ subreddit +'_'+  period +'/'+ subreddit + \"_posts.csv\"\n",
    "    path_awards = '../data/raw/'+ subreddit +'_'+  period +'/'+ subreddit + \"_awards.csv\"\n",
    "\n",
    "    df_post=analysis_util.read_posts(path_post,path_awards)\n",
    "\n",
    "    df_post['text_title']=df_post['title'] + ' ' + df_post['text']\n",
    "    df_post['n_awards'].replace(np.nan,0,inplace=True)\n",
    "    df_post['awarded']=df_post['n_awards'].apply(lambda x: 1 if x>0 else 0)\n",
    "    \n",
    "    path_comment = '../data/raw/'+ subreddit +'_'+  period +'/'+ subreddit + \"_comments.csv\"\n",
    "    df_comments=analysis_util.read_comments(path_comment,path_awards)"
   ]
  },
  {
   "cell_type": "code",
   "execution_count": 223,
   "metadata": {},
   "outputs": [],
   "source": [
    "def get_author_id(id):\n",
    "    if id[0:3]=='t1_':\n",
    "        vals = df_comments[df_comments.id==id[3:]]['author'].values\n",
    "    else: \n",
    "        vals=df_post[df_post.id==id[3:]]['author'].values\n",
    "\n",
    "    if len(vals)>0:\n",
    "        return vals[0]\n",
    "    else:\n",
    "        return np.nan\n",
    "\n",
    "df_comments['parent_author'] = df_comments['parent_id'].apply(lambda x: get_author_id(x))"
   ]
  },
  {
   "cell_type": "code",
   "execution_count": 224,
   "metadata": {},
   "outputs": [],
   "source": [
    "def degree_centrality(degree,N):\n",
    "    return degree/(N-1)\n",
    "\n",
    "def get_graph_WSB(pre_date,date,author,id):\n",
    "    df_comments_sub = df_comments[(df_comments['date'] >= pre_date) & (df_comments['date'] < date)]\n",
    "    df_comments_sub = df_comments_sub.dropna(subset=['author'])\n",
    "    df_post_sub = df_post[(df_post['date'] >= pre_date) & (df_post['date'] < date)]\n",
    "\n",
    "    # create graph\n",
    "    G = nx.from_pandas_edgelist(df_comments_sub, 'author', 'parent_author', create_using=nx.Graph())\n",
    "    G_di = nx.from_pandas_edgelist(df_comments_sub, 'author', 'parent_author', create_using=nx.DiGraph())\n",
    "\n",
    "    # directed graph\n",
    "    N_nodes = len(G.nodes)\n",
    "    N_edges = G.number_of_edges()\n",
    "\n",
    "    if N_edges>0:\n",
    "        # reciprocal edges for directed graph\n",
    "        N_rec=len([e for e in G_di.edges if G_di.has_edge(e[1], e[0])])\n",
    "        frac_rec = N_rec/N_edges\n",
    "\n",
    "        if author in df_comments_sub['author'].values or author in df_comments_sub['parent_author'].values:\n",
    "            # undirected graph\n",
    "            degree = G.degree(author)\n",
    "            degree_cen = degree_centrality(degree,N_nodes)\n",
    "            close_cen  = nx.closeness_centrality(G, u=author)  \n",
    "            \n",
    "            # directed graph\n",
    "            degree_in = G_di.in_degree(author)\n",
    "            degree_out = G_di.out_degree(author)\n",
    "            N_rec_author = len([e for e in G_di.edges if G_di.has_edge(e[1], e[0]) and e[0]==author])\n",
    "            N_rec_author = 0\n",
    "\n",
    "\n",
    "        else:\n",
    "            degree_cen = 0\n",
    "            close_cen = 0\n",
    "            degree = 0\n",
    "            degree_in = 0\n",
    "            degree_out = 0\n",
    "            N_rec_author = 0\n",
    "    else:\n",
    "        degree_cen = 0\n",
    "        close_cen = 0\n",
    "        degree = 0\n",
    "        frac_rec = 0\n",
    "        N_rec = 0\n",
    "        degree_in = 0\n",
    "        degree_out = 0\n",
    "        N_rec_author = 0\n",
    "\n",
    "    # no mentions :(\n",
    "    user_name = '/u/'+author\n",
    "    mentions = df_post_sub.text.str.contains(user_name).sum() + df_post_sub.title.str.contains(user_name).sum() + df_comments_sub.body.str.contains(user_name).sum()\n",
    "    user = '/u/'\n",
    "    sum_mentions = df_post_sub.text.str.contains(user).sum() + df_post_sub.title.str.contains(user).sum() + df_comments_sub.body.str.contains(user).sum()\n",
    "    \n",
    "    activity = len(df_comments_sub.loc[df_comments_sub['author']==author]) + len(df_post_sub.loc[df_post_sub['author']==author])\n",
    "\n",
    "    return [degree_cen, close_cen,activity,degree, N_nodes, N_edges,mentions,sum_mentions,id,frac_rec,N_rec,degree_in,degree_out,N_rec_author]"
   ]
  },
  {
   "cell_type": "code",
   "execution_count": 225,
   "metadata": {},
   "outputs": [
    {
     "name": "stdout",
     "output_type": "stream",
     "text": [
      "Data size: 1620\n"
     ]
    },
    {
     "name": "stderr",
     "output_type": "stream",
     "text": [
      "1620it [00:13, 116.15it/s]\n"
     ]
    }
   ],
   "source": [
    "df_post['pre_date']=df_post['date']-pd.Timedelta(weeks=30)\n",
    "pre_date = df_post['pre_date'].values\n",
    "date = df_post['date'].values\n",
    "author = df_post['author'].values\n",
    "id = df_post['id'].values\n",
    "\n",
    "print('Data size: ' + str(len(id)))\n",
    "df = pd.DataFrame()\n",
    "for i,j,k,l in tqdm(zip(pre_date,date,author,id)):\n",
    "    out=get_graph_WSB(i,j,k,l)\n",
    "    df = pd.concat([df,pd.DataFrame(out).T],axis=0)\n",
    "\n",
    "df.columns = ['degree_cen', 'close_cen','activity','degree', 'N_nodes', 'N_edges','mentions','sum_mentions','id','frac_rec','N_rec','degree_in','degree_out','N_rec_author']"
   ]
  },
  {
   "cell_type": "code",
   "execution_count": null,
   "metadata": {},
   "outputs": [],
   "source": []
  },
  {
   "cell_type": "code",
   "execution_count": 226,
   "metadata": {},
   "outputs": [
    {
     "name": "stdout",
     "output_type": "stream",
     "text": [
      "300\n"
     ]
    }
   ],
   "source": [
    "# # normalize network features\n",
    "df['degree_cen'] = df['degree_cen'].apply(lambda x: x/df['degree_cen'].max())\n",
    "df['close_cen'] = df['close_cen'].apply(lambda x: x/df['close_cen'].max())\n",
    "df['activity'] = df['activity'].apply(lambda x: x/df['activity'].max())\n",
    "df['degree'] = df['degree'].apply(lambda x: x/df['degree'].max())\n",
    "df['N_nodes'] = df['N_nodes'].apply(lambda x: x/df['N_nodes'].max())\n",
    "df['N_edges'] = df['N_edges'].apply(lambda x: x/df['N_edges'].max())\n",
    "df['mentions'] = df['mentions'].apply(lambda x: x/df['mentions'].max())\n",
    "df['sum_mentions'] = df['sum_mentions'].apply(lambda x: x/df['sum_mentions'].max())\n",
    "df['frac_rec'] = df['frac_rec'].apply(lambda x: x/df['frac_rec'].max())\n",
    "df['N_rec'] = df['N_rec'].apply(lambda x: x/df['N_rec'].max())\n",
    "df['degree_in'] = df['degree_in'].apply(lambda x: x/df['degree_in'].max())\n",
    "df['degree_out'] = df['degree_out'].apply(lambda x: x/df['degree_out'].max())\n",
    "# df['N_rec_author'] = df['N_rec_author'].apply(lambda x: x/df['N_rec_author'].max())\n",
    "df_post.set_index('id',inplace=True)\n",
    "df=df_post.join(df.set_index('id'),on='id')\n",
    "df['text_title'] = df['title'] + ' ' + df['text']\n",
    "\n",
    "df = df[['degree_cen', 'close_cen', 'activity', 'degree', 'N_nodes', 'N_edges','mentions','sum_mentions',\n",
    "        'frac_rec','N_rec','degree_in','degree_out','N_rec_author',\n",
    "        'text_title',\n",
    "        'awarded']]\n",
    "df['text_title'].replace('', np.nan, inplace=True)\n",
    "df.dropna(inplace=True)\n",
    "print(len(df))"
   ]
  },
  {
   "cell_type": "code",
   "execution_count": 231,
   "metadata": {},
   "outputs": [],
   "source": [
    "try:\n",
    "    df['N_rec_author'] = df['N_rec_author'].apply(lambda x: x/df['N_rec_author'].max())\n",
    "except:\n",
    "    df['N_rec_author'] = 0.0"
   ]
  },
  {
   "cell_type": "code",
   "execution_count": 230,
   "metadata": {},
   "outputs": [],
   "source": [
    "# df['mentions'] = 0.0\n",
    "# df['sum_mentions'] = 0.0"
   ]
  },
  {
   "attachments": {},
   "cell_type": "markdown",
   "metadata": {},
   "source": [
    "# model"
   ]
  },
  {
   "cell_type": "code",
   "execution_count": 232,
   "metadata": {},
   "outputs": [],
   "source": [
    "class ElectraClassifier(nn.Module):\n",
    "    def __init__(self,num_labels=2):\n",
    "        super(ElectraClassifier, self).__init__()\n",
    "        self.num_labels = num_labels\n",
    "\n",
    "        # text features\n",
    "        self.electra = ElectraModel.from_pretrained('google/electra-small-discriminator')\n",
    "        self.dense_txt = nn.Linear(self.electra.config.hidden_size, self.electra.config.hidden_size) # 256\n",
    "        self.dropout_txt = nn.Dropout(self.electra.config.hidden_dropout_prob)\n",
    "\n",
    "        # combined features\n",
    "        self.dense_cat1 = nn.Linear(in_features=(256+12),out_features=512) # 256 from text features + 12 from network features \n",
    "        self.dense_cat2 = nn.Linear(in_features=512,out_features=1024)\n",
    "        self.dense_cat3 = nn.Linear(in_features=1024,out_features=2048)\n",
    "        self.dense_cat6 = nn.Linear(in_features=2048,out_features=1024)\n",
    "        self.dense_cat7 = nn.Linear(in_features=1024,out_features=512)\n",
    "        self.dense_cat8 = nn.Linear(in_features=512,out_features=256)\n",
    "\n",
    "        # output layer\n",
    "        self.out_proj = nn.Linear(256, self.num_labels) # 2 labels\n",
    "\n",
    "    def classifier(self,sequence_output,network_features):\n",
    "        # text features\n",
    "        x_txt = sequence_output[:, 0, :] #[CLS] token\n",
    "        x_txt = F.relu(self.dense_txt(x_txt))\n",
    "        x_txt = self.dropout_txt(x_txt)\n",
    "        \n",
    "        # combined features\n",
    "        x = torch.cat((x_txt,network_features),dim=1) \n",
    "        x = F.relu(self.dense_cat1(x))\n",
    "        x = F.relu(self.dense_cat2(x))\n",
    "        x = F.relu(self.dense_cat3(x))\n",
    "        x = F.relu(self.dense_cat6(x))\n",
    "        x = F.relu(self.dense_cat7(x))\n",
    "        x = F.relu(self.dense_cat8(x))\n",
    "\n",
    "        # output layer\n",
    "        logits = self.out_proj(x)\n",
    "        return logits\n",
    "\n",
    "    def forward(self, input_ids=None,attention_mask=None,network_features=None):\n",
    "        discriminator_hidden_states = self.electra(input_ids=input_ids,attention_mask=attention_mask)\n",
    "        sequence_output = discriminator_hidden_states[0]\n",
    "        logits = self.classifier(sequence_output,network_features)\n",
    "\n",
    "        return logits\n",
    "    \n",
    "class Dataset():\n",
    "  def __init__(self, texts, targets, tokenizer, max_len,network_features):\n",
    "    self.network_features = network_features\n",
    "    self.text = texts\n",
    "    self.targets = targets\n",
    "    self.tokenizer = tokenizer\n",
    "    self.max_len = max_len\n",
    "\n",
    "  def __len__(self):\n",
    "    return len(self.text)\n",
    "\n",
    "  def __getitem__(self, item):\n",
    "    network_features = self.network_features[item]\n",
    "    text = str(self.text[item])\n",
    "    target = self.targets[item]\n",
    "    encoding = self.tokenizer.encode_plus(\n",
    "      text,\n",
    "      add_special_tokens=True, # Add '[CLS]' and '[SEP]'\n",
    "      max_length=self.max_len,\n",
    "      return_token_type_ids=False,\n",
    "      padding='max_length',\n",
    "      truncation=True,\n",
    "      return_attention_mask=True,\n",
    "      return_tensors='pt',\n",
    "    )\n",
    "    return {\n",
    "        'network_features': torch.tensor(network_features, dtype=torch.float),\n",
    "        'text': text,\n",
    "        'input_ids': encoding['input_ids'].flatten(),\n",
    "        'attention_mask': encoding['attention_mask'].flatten(),\n",
    "        'targets': torch.tensor(target, dtype=torch.long)}\n",
    "  \n",
    "# create dataloader\n",
    "def create_dataloader(df, tokenizer, max_len, batch_size):\n",
    "\n",
    "    ds = Dataset(\n",
    "    network_features=df[['degree_cen', 'close_cen', 'activity', 'degree', 'N_nodes', 'N_edges','mentions',\n",
    "                        'frac_rec','N_rec','degree_in','degree_out','N_rec_author']].to_numpy(),\n",
    "    texts=df[\"text_title\"].to_numpy(),\n",
    "    targets=df['awarded'].to_numpy(),\n",
    "    tokenizer=tokenizer,\n",
    "    max_len=max_len)\n",
    "\n",
    "    return DataLoader(ds,batch_size=batch_size,num_workers=2)\n"
   ]
  },
  {
   "cell_type": "code",
   "execution_count": 233,
   "metadata": {},
   "outputs": [
    {
     "name": "stdout",
     "output_type": "stream",
     "text": [
      "Device: cpu\n"
     ]
    }
   ],
   "source": [
    "device = torch.device(\"cuda:0\" if torch.cuda.is_available() else \"cpu\")\n",
    "print('Device: ' + str(device))\n",
    "model = ElectraClassifier()\n",
    "model = model.to(device)\n",
    "path='/home/pelle/Master_Thesis/reports/model_3/best_model_state_electra.bin'\n",
    "model.load_state_dict(torch.load(path, map_location=torch.device('cpu')))\n",
    "\n",
    "def get_predictions(model, data_loader):\n",
    "    model = model.eval()\n",
    "    review_texts = []\n",
    "    predictions = []\n",
    "    prediction_probs = []\n",
    "    ground_truth = []\n",
    "    with torch.no_grad():\n",
    "        for d in data_loader:\n",
    "            texts = d[\"text\"]\n",
    "            input_ids = d[\"input_ids\"].to(device)\n",
    "            attention_mask = d[\"attention_mask\"].to(device)\n",
    "            network_features = d[\"network_features\"].to(device)\n",
    "            targets = d[\"targets\"].to(device)\n",
    "\n",
    "            outputs = model(\n",
    "            input_ids=input_ids, \n",
    "            attention_mask=attention_mask,\n",
    "            network_features=network_features)\n",
    "\n",
    "            _, preds = torch.max(outputs, dim=1)\n",
    "\n",
    "            review_texts.extend(texts)\n",
    "            predictions.extend(preds)\n",
    "            prediction_probs.extend(outputs)\n",
    "            ground_truth.extend(targets)\n",
    "\n",
    "    predictions = torch.stack(predictions).cpu()\n",
    "    prediction_probs = torch.stack(prediction_probs).cpu()\n",
    "    ground_truth = torch.stack(ground_truth).cpu()\n",
    "\n",
    "    return review_texts, predictions, prediction_probs, ground_truth"
   ]
  },
  {
   "cell_type": "code",
   "execution_count": 234,
   "metadata": {},
   "outputs": [
    {
     "name": "stdout",
     "output_type": "stream",
     "text": [
      "F1 score:  0.3135011441647597\n"
     ]
    },
    {
     "data": {
      "image/png": "[encoded data removed]",
      "text/plain": [
       "<Figure size 1000x800 with 1 Axes>"
      ]
     },
     "metadata": {},
     "output_type": "display_data"
    }
   ],
   "source": [
    "tokenizer = AutoTokenizer.from_pretrained('google/electra-small-discriminator')\n",
    "test_dataloader = create_dataloader(df, tokenizer, 200, 16)\n",
    "\n",
    "y_text, y_pred, y_pred_probs, y_test = get_predictions(model,test_dataloader)\n",
    "\n",
    "# print f1 score\n",
    "print('F1 score: ', f1_score(y_test, y_pred, average='macro'))\n",
    "\n",
    "plt.figure(figsize=(10,8))\n",
    "cm = confusion_matrix(y_test, y_pred)\n",
    "sns.heatmap(cm, annot=True, fmt='d',cmap='Blues', cbar=False, annot_kws={\"size\": 20})\n",
    "plt.xticks([0.5,1.5], ['No Award', 'Award'], fontsize=20)\n",
    "plt.yticks([0.5,1.5], ['No Award', 'Award'],fontsize=20)\n",
    "plt.xlabel('Predicted', fontsize=20)\n",
    "plt.ylabel('Actual', fontsize=20)\n",
    "plt.title('Confusion Matrix', fontsize=23)\n",
    "plt.show()"
   ]
  },
  {
   "cell_type": "code",
   "execution_count": 236,
   "metadata": {},
   "outputs": [
    {
     "name": "stdout",
     "output_type": "stream",
     "text": [
      "              precision    recall  f1-score   support\n",
      "\n",
      "    No Award       0.95      0.36      0.52       284\n",
      "       Award       0.06      0.69      0.11        16\n",
      "\n",
      "    accuracy                           0.38       300\n",
      "   macro avg       0.51      0.52      0.31       300\n",
      "weighted avg       0.91      0.38      0.50       300\n",
      "\n"
     ]
    }
   ],
   "source": [
    "# Classification report\n",
    "print(classification_report(y_test, y_pred, target_names=['No Award', 'Award']))"
   ]
  }
 ],
 "metadata": {
  "kernelspec": {
   "display_name": "py39",
   "language": "python",
   "name": "python3"
  },
  "language_info": {
   "codemirror_mode": {
    "name": "ipython",
    "version": 3
   },
   "file_extension": ".py",
   "mimetype": "text/x-python",
   "name": "python",
   "nbconvert_exporter": "python",
   "pygments_lexer": "ipython3",
   "version": "3.9.15"
  },
  "orig_nbformat": 4,
  "vscode": {
   "interpreter": {
    "hash": "c1f814a4e109c882a9affb42993ee939858e43ebdc57bfb1498f07e0b82aab6b"
   }
  }
 },
 "nbformat": 4,
 "nbformat_minor": 2
}
